{
 "cells": [
  {
   "cell_type": "code",
   "execution_count": 1,
   "id": "8057b4a6-64c3-4ae3-852e-b38664dfd245",
   "metadata": {},
   "outputs": [
    {
     "name": "stdout",
     "output_type": "stream",
     "text": [
      "The sum of 5 and 7 is: 12\n"
     ]
    }
   ],
   "source": [
    "# Q1\n",
    "def add_numbers(num1, num2):\n",
    "    return num1 + num2\n",
    "result = add_numbers(5, 7)\n",
    "print(f\"The sum of 5 and 7 is: {result}\")\n"
   ]
  },
  {
   "cell_type": "code",
   "execution_count": 3,
   "id": "0731592e-3e73-40ee-8ed9-42df4b5cda21",
   "metadata": {},
   "outputs": [
    {
     "name": "stdout",
     "output_type": "stream",
     "text": [
      "The string 'Orange' contains 3 vowels.\n"
     ]
    }
   ],
   "source": [
    "# Q2\n",
    "def count_vowels(s):\n",
    "    vowels = \"aeiouAEIOU\"  \n",
    "    count = sum(1 for char in s if char in vowels)\n",
    "    return count\n",
    "string = \"Orange\"\n",
    "result = count_vowels(string)\n",
    "print(f\"The string '{string}' contains {result} vowels.\")\n",
    "\n",
    "    \n"
   ]
  },
  {
   "cell_type": "code",
   "execution_count": 4,
   "id": "73448736-d831-41f4-85c5-9827b614e30c",
   "metadata": {},
   "outputs": [
    {
     "name": "stdout",
     "output_type": "stream",
     "text": [
      "$100.00 USD is equivalent to 28000.00 PKR at an exchange rate of 280.\n"
     ]
    }
   ],
   "source": [
    "#Q3\n",
    "def currency_converter(amount, exchange_rate=280):\n",
    "    if amount < 0:\n",
    "        return \"Amount cannot be negative.\"\n",
    "    converted_amount = amount * exchange_rate\n",
    "    return f\"${amount:.2f} USD is equivalent to {converted_amount:.2f} PKR at an exchange rate of {exchange_rate}.\"\n",
    "result = currency_converter(100)\n",
    "print(result)\n"
   ]
  },
  {
   "cell_type": "code",
   "execution_count": 5,
   "id": "1801fc61-dfee-4be6-9237-faa17c4dcf5d",
   "metadata": {},
   "outputs": [
    {
     "name": "stdout",
     "output_type": "stream",
     "text": [
      "Student Information:\n",
      "Name   : Umar\n",
      "Age    : 23\n",
      "Grade  : graduate\n",
      "School : SMIU\n"
     ]
    }
   ],
   "source": [
    "# Q4\n",
    "def display_student_info(*, name, age, grade, school):\n",
    "    print(\"Student Information:\")\n",
    "    print(f\"Name   : {name}\")\n",
    "    print(f\"Age    : {age}\")\n",
    "    print(f\"Grade  : {grade}\")\n",
    "    print(f\"School : {school}\")\n",
    "display_student_info(name=\"Umar\", age=23, grade=\"graduate\", school=\"SMIU\")\n"
   ]
  },
  {
   "cell_type": "code",
   "execution_count": 6,
   "id": "24114255-3259-43a7-b18a-e6792b07dc24",
   "metadata": {},
   "outputs": [
    {
     "name": "stdout",
     "output_type": "stream",
     "text": [
      "The total price for 5 items at $20.00 each is: $100.00\n"
     ]
    }
   ],
   "source": [
    "# Q5\n",
    "def calculate_price(price, quantity):\n",
    "    total = price * quantity\n",
    "    return total\n",
    "price_per_item = 20\n",
    "quantity_bought = 5\n",
    "total_price = calculate_price(price_per_item, quantity_bought)\n",
    "print(f\"The total price for {quantity_bought} items at ${price_per_item:.2f} each is: ${total_price:.2f}\")\n"
   ]
  },
  {
   "cell_type": "code",
   "execution_count": 7,
   "id": "6d292450-5623-4b74-8329-f0932a78fcaf",
   "metadata": {},
   "outputs": [
    {
     "name": "stdout",
     "output_type": "stream",
     "text": [
      "Product: Laptop\n",
      "\n",
      "Amazon: $800\n",
      "eBay: $750\n",
      "Walmart: $780\n"
     ]
    }
   ],
   "source": [
    "# Q6\n",
    "def display_prices(product, **prices):\n",
    "    print(f\"Product: {product}\\n\")\n",
    "    for source, price in prices.items():\n",
    "        print(f\"{source}: ${price}\")\n",
    "display_prices(\"Laptop\", Amazon=800, eBay=750, Walmart=780)\n"
   ]
  },
  {
   "cell_type": "code",
   "execution_count": 8,
   "id": "231dba9f-b40a-4c3a-a637-ea15b5d2091b",
   "metadata": {},
   "outputs": [
    {
     "name": "stdout",
     "output_type": "stream",
     "text": [
      "The maximum number is: 10\n"
     ]
    }
   ],
   "source": [
    "# Q7\n",
    "def find_max(*numbers):\n",
    "    if not numbers:\n",
    "        return \"No numbers were provided.\"\n",
    "    return max(numbers)\n",
    "result = find_max(3, 7, 2, 10, 5)\n",
    "print(f\"The maximum number is: {result}\")\n"
   ]
  },
  {
   "cell_type": "code",
   "execution_count": 9,
   "id": "c756d0b4-395a-4dfb-94d8-efcca93a3085",
   "metadata": {},
   "outputs": [
    {
     "name": "stdout",
     "output_type": "stream",
     "text": [
      "Name: Umar\n",
      "Age: 30\n",
      "Other Details:\n",
      "address: pib colony\n",
      "phone: 030000000000\n",
      "email: umar@gmail.com\n"
     ]
    }
   ],
   "source": [
    "# Q8\n",
    "def display_info(name, age, **other_details):\n",
    "    print(f\"Name: {name}\")\n",
    "    print(f\"Age: {age}\")\n",
    "    if other_details:\n",
    "        print(\"Other Details:\")\n",
    "        for key, value in other_details.items():\n",
    "            print(f\"{key}: {value}\")\n",
    "display_info(\n",
    "    \"Umar\", 30, \n",
    "    address=\"pib colony\", \n",
    "    phone=\"030000000000\", \n",
    "    email=\"umar@gmail.com\"\n",
    ")\n"
   ]
  },
  {
   "cell_type": "code",
   "execution_count": 10,
   "id": "6ab7a461-c277-4e65-80ee-ba6287dd62a1",
   "metadata": {},
   "outputs": [
    {
     "name": "stdout",
     "output_type": "stream",
     "text": [
      "Area: 15\n",
      "Perimeter: 16\n"
     ]
    }
   ],
   "source": [
    "# Q9\n",
    "def calculate_rectangle(length, width):\n",
    "    def calculate_area():\n",
    "        return length * width\n",
    "    def calculate_perimeter():\n",
    "        return 2 * (length + width)\n",
    "    return calculate_area(), calculate_perimeter()\n",
    "area, perimeter = calculate_rectangle(5, 3)\n",
    "print(f\"Area: {area}\")\n",
    "print(f\"Perimeter: {perimeter}\")\n"
   ]
  },
  {
   "cell_type": "code",
   "execution_count": 11,
   "id": "619183b8-b16e-468b-967a-000fdc278f4d",
   "metadata": {},
   "outputs": [
    {
     "name": "stdout",
     "output_type": "stream",
     "text": [
      "In-stock product names:\n",
      "['Laptop', 'Headphones', 'Smartwatch', 'Keyboard']\n",
      "\n",
      "Product names and final prices:\n",
      "[('Laptop', 1080.0), ('Headphones', 120.0), ('Smartwatch', 300), ('Keyboard', 85.0)]\n"
     ]
    }
   ],
   "source": [
    "#Q10\n",
    "products = [\n",
    "    {\"name\": \"Laptop\", \"price\": 1200, \"in_stock\": True, \"discount\": 0.1},\n",
    "    {\"name\": \"Smartphone\", \"price\": 800, \"in_stock\": False, \"discount\": 0.05},\n",
    "    {\"name\": \"Headphones\", \"price\": 150, \"in_stock\": True, \"discount\": 0.2},\n",
    "    {\"name\": \"Smartwatch\", \"price\": 300, \"in_stock\": True, \"discount\": 0},\n",
    "    {\"name\": \"Keyboard\", \"price\": 100, \"in_stock\": True, \"discount\": 0.15},\n",
    "]\n",
    "in_stock_names = [product[\"name\"] for product in products if product[\"in_stock\"]]\n",
    "final_prices = [\n",
    "    (product[\"name\"], product[\"price\"] * (1 - product[\"discount\"]) if product[\"discount\"] > 0 else product[\"price\"])\n",
    "    for product in products\n",
    "    if product[\"in_stock\"]\n",
    "]\n",
    "print(\"In-stock product names:\")\n",
    "print(in_stock_names)\n",
    "print(\"\\nProduct names and final prices:\")\n",
    "print(final_prices)\n"
   ]
  },
  {
   "cell_type": "code",
   "execution_count": null,
   "id": "226f322e-2a31-4783-ba42-9f13ca4854e8",
   "metadata": {},
   "outputs": [],
   "source": []
  }
 ],
 "metadata": {
  "kernelspec": {
   "display_name": "Python 3 (ipykernel)",
   "language": "python",
   "name": "python3"
  },
  "language_info": {
   "codemirror_mode": {
    "name": "ipython",
    "version": 3
   },
   "file_extension": ".py",
   "mimetype": "text/x-python",
   "name": "python",
   "nbconvert_exporter": "python",
   "pygments_lexer": "ipython3",
   "version": "3.12.7"
  }
 },
 "nbformat": 4,
 "nbformat_minor": 5
}
