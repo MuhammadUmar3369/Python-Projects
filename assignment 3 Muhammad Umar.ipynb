{
 "cells": [
  {
   "cell_type": "code",
   "execution_count": 8,
   "id": "6b12ff0b-b5eb-416f-88c8-db64668d0d96",
   "metadata": {},
   "outputs": [
    {
     "name": "stdin",
     "output_type": "stream",
     "text": [
      "Enter your age:  23\n",
      "Enter your credit score:  30000\n",
      "Enter your annual income:  50000\n"
     ]
    },
    {
     "name": "stdout",
     "output_type": "stream",
     "text": [
      "Eligible for a loan.\n"
     ]
    }
   ],
   "source": [
    "def check_loan_eligibility(age, credit_score, annual_income):\n",
    "    # Check if the person meets the basic age requirement\n",
    "    if age < 18:\n",
    "        return \"Not eligible for a loan: Must be 18 years or older.\"\n",
    "    if credit_score >= 700:\n",
    "        if annual_income >= 25000:\n",
    "            return \"Eligible for a loan.\"\n",
    "        else:\n",
    "            return \"Not eligible for a loan: Income must be at least $25,000 for a credit score of 700 or higher.\"\n",
    "    elif credit_score >= 650:\n",
    "        if annual_income >= 30000:\n",
    "            return \"Eligible for a loan.\"\n",
    "        else:\n",
    "            return \"Not eligible for a loan: Income must be at least $30,000 for a credit score between 650 and 699.\"\n",
    "    else:\n",
    "        return \"Not eligible for a loan: Credit score must be at least 650.\"\n",
    "age = int(input(\"Enter your age: \"))\n",
    "credit_score = int(input(\"Enter your credit score: \"))\n",
    "annual_income = int(input(\"Enter your annual income: \"))\n",
    "\n",
    "result = check_loan_eligibility(age, credit_score, annual_income)\n",
    "print(result)\n"
   ]
  },
  {
   "cell_type": "code",
   "execution_count": 17,
   "id": "d1bc59c7-a2ed-4db7-b948-59b0f692f7ff",
   "metadata": {},
   "outputs": [],
   "source": [
    "def check_adulthood_and_experience():\n",
    "    age = int(input(\"Enter your age: \"))\n",
    "    if age < 18:\n",
    "        print(\"You are underage.\")\n",
    "    else:\n",
    "        experience = int(input(\"Enter your years of experience: \"))\n",
    "        if experience >= 10:\n",
    "            print(\"You have a lot of experience.\")\n",
    "        elif 5 <= experience <= 9:\n",
    "            print(\"You have moderate experience.\")\n",
    "        elif 2 <= experience <= 4:\n",
    "            print(\"You are relatively new.\")\n",
    "        else:\n",
    "            print(\"You are just starting out.\")\n",
    "check_adulthood_and_experience()\n"
   ]
  },
  {
   "cell_type": "code",
   "execution_count": 19,
   "id": "bfec37ce-a8ea-461f-9c1a-051621ad66a8",
   "metadata": {},
   "outputs": [
    {
     "name": "stdout",
     "output_type": "stream",
     "text": [
      "Variable Analysis:\n",
      "-------------------\n",
      "List:\n",
      "  Memory Address: 2648637147584\n",
      "  Memory Size: 88 bytes\n",
      "\n",
      "Integer:\n",
      "  Memory Address: 140714839193112\n",
      "  Memory Size: 28 bytes\n",
      "\n",
      "String:\n",
      "  Memory Address: 2648637180864\n",
      "  Memory Size: 67 bytes\n",
      "\n",
      "Float:\n",
      "  Memory Address: 2648635038480\n",
      "  Memory Size: 24 bytes\n",
      "\n",
      "Boolean:\n",
      "  Memory Address: 140714838064000\n",
      "  Memory Size: 28 bytes\n",
      "\n",
      "Dictionary:\n",
      "  Memory Address: 2648637268096\n",
      "  Memory Size: 184 bytes\n",
      "\n",
      "Tuple:\n",
      "  Memory Address: 2648637151936\n",
      "  Memory Size: 64 bytes\n",
      "\n",
      "Set:\n",
      "  Memory Address: 2648636537792\n",
      "  Memory Size: 216 bytes\n",
      "\n",
      "Final Analysis:\n",
      "----------------\n",
      "The data type with the least memory size is 'float' with 24 bytes.\n"
     ]
    }
   ],
   "source": [
    "# question 3\n",
    "import sys\n",
    "\n",
    "def explore_variables():\n",
    "    variables = [\n",
    "        (\"list\", [1, 2, 3]),\n",
    "        (\"integer\", 100),\n",
    "        (\"string\", \"Hi, We are learning python\"),\n",
    "        (\"float\", 42.42),\n",
    "        (\"boolean\", True),\n",
    "        (\"dictionary\", {\"key\": \"value\"}),\n",
    "        (\"tuple\", (1, 2, 3)),\n",
    "        (\"set\", {1, 2, 3}),\n",
    "    ]\n",
    "\n",
    "    memory_sizes = []  \n",
    "\n",
    "    print(\"Variable Analysis:\")\n",
    "    print(\"-------------------\")\n",
    "    for var_name, var_value in variables:\n",
    "        memory_address = id(var_value)\n",
    "        memory_size = sys.getsizeof(var_value)\n",
    "        memory_sizes.append((var_name, memory_size))  # Append type and size\n",
    "\n",
    "        print(f\"{var_name.capitalize()}:\\n  Memory Address: {memory_address}\\n  Memory Size: {memory_size} bytes\\n\")\n",
    "    least_memory_var = min(memory_sizes, key=lambda x: x[1])\n",
    "    print(\"Final Analysis:\")\n",
    "    print(\"----------------\")\n",
    "    print(f\"The data type with the least memory size is '{least_memory_var[0]}' with {least_memory_var[1]} bytes.\")\n",
    "\n",
    "explore_variables()\n"
   ]
  },
  {
   "cell_type": "code",
   "execution_count": 21,
   "id": "5590b7ee-3c2b-4f11-b970-9ec5e7feb1cd",
   "metadata": {},
   "outputs": [
    {
     "name": "stdin",
     "output_type": "stream",
     "text": [
      "Enter your email address:  umar@gmail.com\n"
     ]
    },
    {
     "name": "stdout",
     "output_type": "stream",
     "text": [
      "Email format is valid.\n"
     ]
    }
   ],
   "source": [
    "# Question 4\n",
    "def validate_email():\n",
    "    email = input(\"Enter your email address: \")\n",
    "    if \"@\" in email and \".\" in email:\n",
    "        print(\"Email format is valid.\")\n",
    "    else:\n",
    "        print(\"Invalid email format.\")\n",
    "\n",
    "# Call the function\n",
    "validate_email()\n"
   ]
  },
  {
   "cell_type": "code",
   "execution_count": 33,
   "id": "422a9b95-5185-49c3-ae38-407a791860a4",
   "metadata": {},
   "outputs": [
    {
     "data": {
      "text/plain": [
       "float"
      ]
     },
     "execution_count": 33,
     "metadata": {},
     "output_type": "execute_result"
    }
   ],
   "source": [
    "x = (11,22.333,'apple',[1,2,3],('a','b'))\n",
    "type(x[0])\n",
    "type(x[1])"
   ]
  },
  {
   "cell_type": "code",
   "execution_count": null,
   "id": "441c3376-fabe-4eb0-9375-b75da6b898c0",
   "metadata": {},
   "outputs": [],
   "source": []
  },
  {
   "cell_type": "code",
   "execution_count": null,
   "id": "1268a48e-c6e2-4c43-ad86-ad7902a5017d",
   "metadata": {},
   "outputs": [],
   "source": []
  }
 ],
 "metadata": {
  "kernelspec": {
   "display_name": "Python 3 (ipykernel)",
   "language": "python",
   "name": "python3"
  },
  "language_info": {
   "codemirror_mode": {
    "name": "ipython",
    "version": 3
   },
   "file_extension": ".py",
   "mimetype": "text/x-python",
   "name": "python",
   "nbconvert_exporter": "python",
   "pygments_lexer": "ipython3",
   "version": "3.12.7"
  }
 },
 "nbformat": 4,
 "nbformat_minor": 5
}
